{
 "cells": [
  {
   "cell_type": "code",
   "execution_count": 10,
   "metadata": {},
   "outputs": [],
   "source": [
    "from PIL import Image\n",
    "import pytesseract\n",
    "import os\n",
    "import cv2\n",
    "import numpy as np\n",
    "import math"
   ]
  },
  {
   "cell_type": "code",
   "execution_count": null,
   "metadata": {},
   "outputs": [],
   "source": [
    "pytesseract.pytesseract.tesseract_cmd = r'D:\\Tesseract-OCR\\tesseract.exe'\n",
    "dictionary=['A','B','C','D','E','F','G','H','I','J','K','L','M','N','O','P','Q','R','S','T','U','V','W','X','Y','Z','0','1','2','3','4','5','6','7','8','9']\n",
    "#Video路徑\n",
    "videosPath=r'videos'\n",
    "#Video\n",
    "videoFiles=os.listdir(videosPath)\n",
    "#截圖路徑\n",
    "imgPath=r'videos\\capture'\n",
    "#截圖\n",
    "imgsFiles=os.listdir(imgPath)\n",
    "#影片格式\n",
    "videoType='.avi'\n",
    "#image格式\n",
    "imageType='.jpg'\n",
    "#label路徑\n",
    "labelPath=r'videos\\number'\n",
    "#label格式\n",
    "labelType='.txt'\n",
    "for videos in videoFiles:\n",
    "    videoName=videos.replace(videoType, \"\")\n",
    "    containerTxt=''\n",
    "    textSave=[]\n",
    "    max=0\n",
    "    for images in imgsFiles:\n",
    "        imageName=images.replace(imageType, \"\")\n",
    "        if(videoName==imageName[:len(videoName)]):\n",
    "            img = Image.open(os.path.join(imgPath,imageName+imageType))\n",
    "            text = pytesseract.image_to_string(img, lang='eng').split('\\n')\n",
    "            imgTxt=''\n",
    "            for t in text[0]:\n",
    "                for d in dictionary:\n",
    "                    if t==d:\n",
    "                        imgTxt=imgTxt+t\n",
    "                        break\n",
    "            isSave=False\n",
    "            for s in range(0,len(textSave)):\n",
    "                if (textSave[s][0]==imgTxt):\n",
    "                    textSave[s][1]=textSave[s][1]+1\n",
    "                    if(max<textSave[s][1]):\n",
    "                        max=textSave[s][1]\n",
    "                    isSave=True\n",
    "                    break\n",
    "            if(isSave==False):\n",
    "                textSave.append([imgTxt,0])\n",
    "    for s in textSave:\n",
    "        if(s[1]==max):\n",
    "            containerTxt=s[0] \n",
    "            break\n",
    "    if (containerTxt!=''):\n",
    "        f= open(os.path.join(labelPath,videoName+labelType),\"w+\")\n",
    "        f.write(containerTxt)\n",
    "        f.close()"
   ]
  },
  {
   "cell_type": "code",
   "execution_count": 5,
   "metadata": {},
   "outputs": [
    {
     "name": "stdout",
     "output_type": "stream",
     "text": [
      "13/35=0.37142857142857144\n"
     ]
    }
   ],
   "source": [
    "newPath=r'runs\\detect\\exp2\\capture'\n",
    "imageType=r'.jpg'\n",
    "pytesseract.pytesseract.tesseract_cmd = r'D:\\Tesseract-OCR\\tesseract.exe'\n",
    "dictionary=['A','B','C','D','E','F','G','H','I','J','K','L','M','N','O','P','Q','R','S','T','U','V','W','X','Y','Z','0','1','2','3','4','5','6','7','8','9']\n",
    "imgFiles=os.listdir(newPath)\n",
    "total=0\n",
    "same=0\n",
    "for imgs in imgFiles:\n",
    "    total+=1\n",
    "    imageName=imgs.replace(imageType, \"\")\n",
    "    img = cv2.imread(os.path.join(newPath,imageName+imageType))\n",
    "    text = pytesseract.image_to_string(img, lang='eng').split('\\n')[0].upper()\n",
    "    outTxt=''\n",
    "    for t in text:\n",
    "        for d in dictionary:\n",
    "            if (t==d):\n",
    "                outTxt+=t\n",
    "                break\n",
    "    if (outTxt==imageName):\n",
    "        same+=1\n",
    "print(str(same)+'/'+str(total)+'='+str(same/total))"
   ]
  },
  {
   "cell_type": "code",
   "execution_count": 18,
   "metadata": {},
   "outputs": [
    {
     "name": "stdout",
     "output_type": "stream",
     "text": [
      "10/10=1.0\n"
     ]
    }
   ],
   "source": [
    "convertValue=[10,12,13,14,15,16,17,18,19,20,21,23,24,25,26,27,28,29,30,31,32,34,35,36,37,38,0,1,2,3,4,5,6,7,8,9]\n",
    "dictionary=['A','B','C','D','E','F','G','H','I','J','K','L','M','N','O','P','Q','R','S','T','U','V','W','X','Y','Z','0','1','2','3','4','5','6','7','8','9']\n",
    "answerValue=[9,0,1,0,9,8,0,6,1,6]\n",
    "filePath=r'videos\\number'\n",
    "files=os.listdir(filePath)\n",
    "ans=0\n",
    "total=0\n",
    "right=0\n",
    "for file in files:\n",
    "    f = open(os.path.join(filePath,file), 'r')\n",
    "    sigma=0\n",
    "    count=0\n",
    "    for fs in f.read()[:10]:\n",
    "        for d in range(0,len(dictionary)):\n",
    "            if fs==dictionary[d]:\n",
    "                sigma+=convertValue[d]*int(math.pow(2,count))\n",
    "                break\n",
    "        count+=1\n",
    "    if(sigma%11%10==answerValue[total]):\n",
    "        right+=1\n",
    "    total+=1\n",
    "    f.close()\n",
    "print(str(right)+'/'+str(total)+'='+str(right/total))"
   ]
  }
 ],
 "metadata": {
  "kernelspec": {
   "display_name": "PyTorch",
   "language": "python",
   "name": "python3"
  },
  "language_info": {
   "codemirror_mode": {
    "name": "ipython",
    "version": 3
   },
   "file_extension": ".py",
   "mimetype": "text/x-python",
   "name": "python",
   "nbconvert_exporter": "python",
   "pygments_lexer": "ipython3",
   "version": "3.8.0"
  },
  "orig_nbformat": 4
 },
 "nbformat": 4,
 "nbformat_minor": 2
}
