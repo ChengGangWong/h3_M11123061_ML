{
 "cells": [
  {
   "cell_type": "code",
   "execution_count": 2,
   "metadata": {},
   "outputs": [],
   "source": [
    "import os\n",
    "import cv2\n",
    "#Label\n",
    "labelPath=r'runs\\detect\\exp\\labels'\n",
    "#Image\n",
    "imgPath=r'videos\\image'\n",
    "#處理後截圖\n",
    "capturePath=r'videos\\capture'\n",
    "lableFile=os.listdir(labelPath)\n",
    "from PIL import Image\n",
    "for file in lableFile:\n",
    "    fileName=file.replace(\".txt\", \"\")\n",
    "    labelName=fileName+\".txt\"\n",
    "    imgName=fileName+\".jpg\"\n",
    "    label=os.path.join(labelPath,labelName)\n",
    "    imgs=os.path.join(imgPath,imgName)\n",
    "    capture=os.path.join(capturePath,imgName)\n",
    "    txt= open(label, 'r')\n",
    "    cW=0\n",
    "    cH=0\n",
    "    rW=0\n",
    "    rH=0\n",
    "    for infos in txt.readlines():\n",
    "        info=infos.split()\n",
    "        if rH<float(info[4]):\n",
    "            cW=float(info[1])\n",
    "            cH=float(info[2])\n",
    "            rW=float(info[3])\n",
    "            rH=float(info[4])\n",
    "    txt.close()\n",
    "    imgPic = Image.open(imgs)\n",
    "    w=imgPic.width\n",
    "    h=imgPic.height\n",
    "    imgPic.close()\n",
    "    pic=cv2.imread(imgs)\n",
    "    crop_img = pic[int(cH*h-(rH/2)*h):int(cH*h-(rH/2)*h)+int(rH*h),int(cW*w-(rW/2)*w):int(cW*w-(rW/2)*w)+int(rW*w)]\n",
    "    cv2.imwrite(capture, crop_img)"
   ]
  }
 ],
 "metadata": {
  "kernelspec": {
   "display_name": "PyTorch",
   "language": "python",
   "name": "python3"
  },
  "language_info": {
   "codemirror_mode": {
    "name": "ipython",
    "version": 3
   },
   "file_extension": ".py",
   "mimetype": "text/x-python",
   "name": "python",
   "nbconvert_exporter": "python",
   "pygments_lexer": "ipython3",
   "version": "3.8.0"
  },
  "orig_nbformat": 4
 },
 "nbformat": 4,
 "nbformat_minor": 2
}
