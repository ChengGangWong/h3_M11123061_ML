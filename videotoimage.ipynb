{
 "cells": [
  {
   "cell_type": "code",
   "execution_count": 2,
   "metadata": {},
   "outputs": [],
   "source": [
    "import cv2\n",
    "import os\n",
    "#影片的Label Folder\n",
    "labelPath=r'runs\\detect\\exp\\labels'\n",
    "#影片Folder\n",
    "videosPath=r'videos'\n",
    "videoFiles=os.listdir(videosPath)\n",
    "#Video截圖Folder\n",
    "capturePath=r'videos\\image'\n",
    "#影片格式\n",
    "videoType='.avi'\n",
    "#Label格式\n",
    "labelType='.txt'\n",
    "#image格式\n",
    "imageType='.jpg'\n",
    "#影片Folder讀取檔案\n",
    "for videos in videoFiles:\n",
    "    videoName=videos.replace(videoType, \"\")\n",
    "    video=os.path.join(videosPath,videoName+videoType)\n",
    "    vc = cv2.VideoCapture(video)\n",
    "    video_images=[]\n",
    "    rval=True\n",
    "    i=1\n",
    "    while rval:\n",
    "        rval, video_frame = vc.read()\n",
    "        labelName=videoName+\"_\"+str(i)\n",
    "        label=os.path.join(labelPath,labelName+labelType)\n",
    "        if os.path.isfile(label):\n",
    "            cv2.imwrite(os.path.join(capturePath,labelName+imageType), video_frame)\n",
    "        i=i+1\n",
    "    vc.release()"
   ]
  }
 ],
 "metadata": {
  "kernelspec": {
   "display_name": "PyTorch",
   "language": "python",
   "name": "python3"
  },
  "language_info": {
   "codemirror_mode": {
    "name": "ipython",
    "version": 3
   },
   "file_extension": ".py",
   "mimetype": "text/x-python",
   "name": "python",
   "nbconvert_exporter": "python",
   "pygments_lexer": "ipython3",
   "version": "3.8.0"
  },
  "orig_nbformat": 4
 },
 "nbformat": 4,
 "nbformat_minor": 2
}
